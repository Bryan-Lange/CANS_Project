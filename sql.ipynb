{
 "cells": [
  {
   "cell_type": "code",
   "execution_count": 29,
   "metadata": {},
   "outputs": [],
   "source": [
    "import pandas as pd\n",
    "import numpy as np\n",
    "import seaborn as sns\n",
    "import matplotlib.pyplot as plt\n",
    "import datetime\n",
    "import sqlite3\n",
    "pd.set_option('display.max_columns', 100)\n",
    "pd.set_option('display.max_rows', 10)\n",
    "np.random.seed(1984)"
   ]
  },
  {
   "cell_type": "markdown",
   "metadata": {},
   "source": [
    "## Connect SQL"
   ]
  },
  {
   "cell_type": "code",
   "execution_count": 30,
   "metadata": {},
   "outputs": [],
   "source": [
    "conn = sqlite3.connect('Cans.db')\n",
    "c = conn.cursor()"
   ]
  },
  {
   "cell_type": "code",
   "execution_count": 31,
   "metadata": {},
   "outputs": [],
   "source": [
    "main_df = pd.read_csv('main.csv')"
   ]
  },
  {
   "cell_type": "code",
   "execution_count": 32,
   "metadata": {},
   "outputs": [
    {
     "name": "stderr",
     "output_type": "stream",
     "text": [
      "C:\\Users\\blang\\AppData\\Roaming\\Python\\Python37\\site-packages\\pandas\\core\\generic.py:2663: UserWarning: The spaces in these column names will not be changed. In pandas versions < 0.14, spaces were converted to underscores.\n",
      "  method=method,\n"
     ]
    }
   ],
   "source": [
    "main_df.to_sql('Cans', conn, if_exists='replace', index = False)"
   ]
  },
  {
   "cell_type": "code",
   "execution_count": null,
   "metadata": {},
   "outputs": [],
   "source": [
    "# Main DB Column Names\n",
    "#[\"Family_Functioning\",\"Living_Situation\",\"Social_Functioning\",\"Recreational\",\"Developmental_Intellectual\",\"Job Functioning\",\"Legal\",\"Medical_Physical\",\"Sexual Development\",\"Sleep\",\"School_Behavior\",\"School_Attendance\",\"School_Achievement\",\"Decision_Making\",\"Family_Strengths\",\"Interpersonal\",\"Optimism\",\"Educational_Setting\",\"Vocational\",\"Talents_Interests\",\"Spiritual_Religious\",\"Community_Life\",\"Relationship_Permanence\",\"Resiliency\",\"Resourcefulness\",\"Cultural_Identity\",\"Natural_Supports\",\"Language\",\n",
    "#\"Traditions_Rituals\",\"Cultural_Stress\",\"Supervision\",\"Involvement_with_Care\",\"Knowledge\",\"Organization\",\"Social_Resources\",\"Residential Stability\",\"Medical_Physical\",\"Mental_Health\",\"Substance_Usage\",\n",
    "#\"Developmental\",\"Safety\",\"Psychosis\",\"Impulsivity_Hyperactivity\",\"Depression\",\"Anxiety\",\"Oppositional\",\"Conduct\",\"Adjustment_to_Trauma\",\"Attachment_Difficulties\",\"Anger_Control\",\"Substance_Use\",\n",
    "#\"Suicide_Risk\",\"NonSuicidal_Self_Injurious_Behavior\",\"Other_Self_Harm\", \"Danger_to_Others\",\"Sexual_Aggression\",\"Runaway\",\"Delinquent_Behavior\",\"Fire_Setting\",\"Intentional_Misbehavior\"]"
   ]
  },
  {
   "cell_type": "markdown",
   "metadata": {},
   "source": [
    "### Execute Queries here"
   ]
  },
  {
   "cell_type": "code",
   "execution_count": 50,
   "metadata": {},
   "outputs": [
    {
     "name": "stdout",
     "output_type": "stream",
     "text": [
      "('Sabrina PARKER', '12/31/2018', 3)\n",
      "('Noah BAKER', '12/31/2018', 3)\n",
      "('Nathan NELSON', '12/31/2017', 3)\n",
      "('Charles CARTER', '12/31/2017', 3)\n",
      "('Layla SMITH', '12/31/2016', 3)\n",
      "('Shelby TURNER', '12/31/2016', 3)\n",
      "('Claire CARTER', '12/31/2015', 3)\n",
      "('Isaac EDWARDS', '12/31/2015', 3)\n",
      "('Ryker MOORE', '12/31/2014', 3)\n",
      "('Louis HALL', '12/31/2014', 3)\n",
      "('Manuel MARTINEZ', '12/31/2014', 3)\n",
      "('Matthew LEE', '12/31/2014', 3)\n",
      "('Sierra HERNANDEZ', '12/31/2013', 3)\n",
      "('Aiden ADAMS', '12/31/2011', 3)\n",
      "('Aliyah PHILLIPS', '12/31/2007', 3)\n",
      "('Katelyn PHILLIPS', '12/31/2003', 3)\n",
      "('Valentina WILLIAMS', '12/31/2003', 3)\n",
      "('Emanuel SCOTT', '12/30/2017', 3)\n",
      "('Braylon WHITE', '12/30/2016', 3)\n",
      "('Gabriel MITCHELL', '12/30/2012', 3)\n",
      "('Scott WALKER', '12/30/2012', 3)\n",
      "('Bryan COLLINS', '12/30/2011', 3)\n",
      "('Rachel THOMPSON', '12/30/2009', 3)\n",
      "('Miles LOPEZ', '12/30/2008', 3)\n",
      "('Lola HARRIS', '12/30/2007', 3)\n",
      "('Bentley HARRIS', '12/30/2006', 3)\n",
      "('Emmett JACKSON', '12/30/2005', 3)\n",
      "('Jameson MOORE', '12/30/2005', 3)\n",
      "('Harrison JOHNSON', '12/30/2005', 3)\n",
      "('Brandon SMITH', '12/30/2005', 3)\n",
      "('Jett JOHNSON', '12/30/2004', 3)\n",
      "('Autumn TAYLOR', '12/29/2018', 3)\n",
      "('Kylee MILLER', '12/29/2018', 3)\n",
      "('Stella ROBERTS', '12/29/2017', 3)\n",
      "('Raymond JOHNSON', '12/29/2016', 3)\n",
      "('Samuel COLLINS', '12/29/2015', 3)\n",
      "('Hunter CLARK', '12/29/2013', 3)\n",
      "('Samantha LOPEZ', '12/29/2012', 3)\n",
      "('Jayson FREEMAN', '12/29/2012', 3)\n",
      "('Abigail GREEN', '12/29/2011', 3)\n",
      "('Wyatt MILLER', '12/29/2010', 3)\n",
      "('Daniel CLARK', '12/29/2009', 3)\n",
      "('Francisco BAKER', '12/29/2009', 3)\n",
      "('Marcus MITCHELL', '12/29/2008', 3)\n",
      "('Cameron RODRIGUEZ', '12/29/2007', 3)\n",
      "('Leland LEE', '12/29/2007', 3)\n",
      "('Victor YOUNG', '12/29/2005', 3)\n",
      "('Riley MILLER', '12/29/2005', 3)\n",
      "('Piper SCOTT', '12/29/2004', 3)\n",
      "('Edwin BAKER', '12/29/2004', 3)\n"
     ]
    }
   ],
   "source": [
    "c.execute('''  \n",
    "SELECT Child_Name, DOB, Fire_Setting\n",
    "FROM Cans\n",
    "WHERE Fire_Setting > 2\n",
    "ORDER BY DOB DESC\n",
    "LIMIT 50\n",
    "          ''')\n",
    "for row in c.fetchall():\n",
    "    print(row)"
   ]
  },
  {
   "cell_type": "markdown",
   "metadata": {},
   "source": [
    "## Query returned as pandas DataFrame"
   ]
  },
  {
   "cell_type": "code",
   "execution_count": 51,
   "metadata": {},
   "outputs": [
    {
     "data": {
      "text/html": [
       "<div>\n",
       "<style scoped>\n",
       "    .dataframe tbody tr th:only-of-type {\n",
       "        vertical-align: middle;\n",
       "    }\n",
       "\n",
       "    .dataframe tbody tr th {\n",
       "        vertical-align: top;\n",
       "    }\n",
       "\n",
       "    .dataframe thead th {\n",
       "        text-align: right;\n",
       "    }\n",
       "</style>\n",
       "<table border=\"1\" class=\"dataframe\">\n",
       "  <thead>\n",
       "    <tr style=\"text-align: right;\">\n",
       "      <th></th>\n",
       "      <th>Child_Name</th>\n",
       "      <th>DOB</th>\n",
       "      <th>Fire_Setting</th>\n",
       "    </tr>\n",
       "  </thead>\n",
       "  <tbody>\n",
       "    <tr>\n",
       "      <th>0</th>\n",
       "      <td>Sabrina PARKER</td>\n",
       "      <td>12/31/2018</td>\n",
       "      <td>3</td>\n",
       "    </tr>\n",
       "    <tr>\n",
       "      <th>1</th>\n",
       "      <td>Noah BAKER</td>\n",
       "      <td>12/31/2018</td>\n",
       "      <td>3</td>\n",
       "    </tr>\n",
       "    <tr>\n",
       "      <th>2</th>\n",
       "      <td>Nathan NELSON</td>\n",
       "      <td>12/31/2017</td>\n",
       "      <td>3</td>\n",
       "    </tr>\n",
       "    <tr>\n",
       "      <th>3</th>\n",
       "      <td>Charles CARTER</td>\n",
       "      <td>12/31/2017</td>\n",
       "      <td>3</td>\n",
       "    </tr>\n",
       "    <tr>\n",
       "      <th>4</th>\n",
       "      <td>Layla SMITH</td>\n",
       "      <td>12/31/2016</td>\n",
       "      <td>3</td>\n",
       "    </tr>\n",
       "    <tr>\n",
       "      <th>...</th>\n",
       "      <td>...</td>\n",
       "      <td>...</td>\n",
       "      <td>...</td>\n",
       "    </tr>\n",
       "    <tr>\n",
       "      <th>45</th>\n",
       "      <td>Leland LEE</td>\n",
       "      <td>12/29/2007</td>\n",
       "      <td>3</td>\n",
       "    </tr>\n",
       "    <tr>\n",
       "      <th>46</th>\n",
       "      <td>Victor YOUNG</td>\n",
       "      <td>12/29/2005</td>\n",
       "      <td>3</td>\n",
       "    </tr>\n",
       "    <tr>\n",
       "      <th>47</th>\n",
       "      <td>Riley MILLER</td>\n",
       "      <td>12/29/2005</td>\n",
       "      <td>3</td>\n",
       "    </tr>\n",
       "    <tr>\n",
       "      <th>48</th>\n",
       "      <td>Piper SCOTT</td>\n",
       "      <td>12/29/2004</td>\n",
       "      <td>3</td>\n",
       "    </tr>\n",
       "    <tr>\n",
       "      <th>49</th>\n",
       "      <td>Edwin BAKER</td>\n",
       "      <td>12/29/2004</td>\n",
       "      <td>3</td>\n",
       "    </tr>\n",
       "  </tbody>\n",
       "</table>\n",
       "<p>50 rows × 3 columns</p>\n",
       "</div>"
      ],
      "text/plain": [
       "        Child_Name         DOB  Fire_Setting\n",
       "0   Sabrina PARKER  12/31/2018             3\n",
       "1       Noah BAKER  12/31/2018             3\n",
       "2    Nathan NELSON  12/31/2017             3\n",
       "3   Charles CARTER  12/31/2017             3\n",
       "4      Layla SMITH  12/31/2016             3\n",
       "..             ...         ...           ...\n",
       "45      Leland LEE  12/29/2007             3\n",
       "46    Victor YOUNG  12/29/2005             3\n",
       "47    Riley MILLER  12/29/2005             3\n",
       "48     Piper SCOTT  12/29/2004             3\n",
       "49     Edwin BAKER  12/29/2004             3\n",
       "\n",
       "[50 rows x 3 columns]"
      ]
     },
     "execution_count": 51,
     "metadata": {},
     "output_type": "execute_result"
    }
   ],
   "source": [
    "df = pd.read_sql_query(\"SELECT Child_Name, DOB, Fire_Setting FROM Cans WHERE Fire_Setting > 2 ORDER BY DOB DESC LIMIT 50;\", conn)\n",
    "df"
   ]
  },
  {
   "cell_type": "code",
   "execution_count": null,
   "metadata": {},
   "outputs": [],
   "source": []
  },
  {
   "cell_type": "code",
   "execution_count": null,
   "metadata": {},
   "outputs": [],
   "source": []
  }
 ],
 "metadata": {
  "kernelspec": {
   "display_name": "Python 3",
   "language": "python",
   "name": "python3"
  },
  "language_info": {
   "codemirror_mode": {
    "name": "ipython",
    "version": 3
   },
   "file_extension": ".py",
   "mimetype": "text/x-python",
   "name": "python",
   "nbconvert_exporter": "python",
   "pygments_lexer": "ipython3",
   "version": "3.7.6"
  }
 },
 "nbformat": 4,
 "nbformat_minor": 4
}
